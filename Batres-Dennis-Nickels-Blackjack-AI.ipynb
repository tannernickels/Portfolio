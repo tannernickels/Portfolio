{
 "cells": [
  {
   "cell_type": "markdown",
   "metadata": {},
   "source": [
    "$\\newcommand{\\xv}{\\mathbf{x}}\n",
    "\\newcommand{\\Xv}{\\mathbf{X}}\n",
    "\\newcommand{\\yv}{\\mathbf{y}}\n",
    "\\newcommand{\\zv}{\\mathbf{z}}\n",
    "\\newcommand{\\av}{\\mathbf{a}}\n",
    "\\newcommand{\\Wv}{\\mathbf{W}}\n",
    "\\newcommand{\\wv}{\\mathbf{w}}\n",
    "\\newcommand{\\tv}{\\mathbf{t}}\n",
    "\\newcommand{\\Tv}{\\mathbf{T}}\n",
    "\\newcommand{\\muv}{\\boldsymbol{\\mu}}\n",
    "\\newcommand{\\sigmav}{\\boldsymbol{\\sigma}}\n",
    "\\newcommand{\\phiv}{\\boldsymbol{\\phi}}\n",
    "\\newcommand{\\Phiv}{\\boldsymbol{\\Phi}}\n",
    "\\newcommand{\\Sigmav}{\\boldsymbol{\\Sigma}}\n",
    "\\newcommand{\\Lambdav}{\\boldsymbol{\\Lambda}}\n",
    "\\newcommand{\\half}{\\frac{1}{2}}\n",
    "\\newcommand{\\argmax}[1]{\\underset{#1}{\\operatorname{argmax}}}\n",
    "\\newcommand{\\argmin}[1]{\\underset{#1}{\\operatorname{argmin}}}$"
   ]
  },
  {
   "cell_type": "markdown",
   "metadata": {},
   "source": [
    "# Final Project: Blackjack Reinforcement Learning"
   ]
  },
  {
   "cell_type": "markdown",
   "metadata": {},
   "source": [
    "Diego Batres, Devin Dennis, Tanner Nickels"
   ]
  },
  {
   "cell_type": "markdown",
   "metadata": {},
   "source": [
    "## Introduction"
   ]
  },
  {
   "cell_type": "markdown",
   "metadata": {},
   "source": [
    "  In this project we aimed to design a series of programs using A.I. techniques to analyze various facets of the casino game Blackjack. The aspect of the game that interested us the most was the Blackjack strategy of card-counting, in which a player keeps track of the cards played to make better guesses about what moves to make in order to maximize profits. Furthermore, we wanted to see if there was a computational way for a third-party to watch a series of games and determine if a player was counting cards or not."
   ]
  },
  {
   "cell_type": "markdown",
   "metadata": {},
   "source": [
    "Initially, we intended to train a series of “players” using reinforcement learning and various learning heuristics to play the game. We defined these as random, basic, and counter, corresponding to random decision-making, established basic-strategy, and card-counting respectively. Then, we would attempt to run a linear regression on betting data for basic players in order to predict betting values to try and catch a player that is making decisions based off of card-counting. We hypothesized that random and basic players would converge on a similar playing style after training, but that their betting patterns would be significantly different than those of a player who is counting cards. To set up the problem, we first needed to research the game and the various strategies used for betting and gameplay, as well as the mechanics behind card-counting and the methods used by casinos to catch card-counters. \n"
   ]
  },
  {
   "cell_type": "markdown",
   "metadata": {},
   "source": [
    "Blackjack is a popular casino game offered in most casinos around the world. To start, you and the dealer are each dealt two cards with the object of the game being to beat the dealer. The goal is to receive cards from the dealer one at a time to get as close to 21 points without going over, also called “busting”. Each numbered card is counted at face-value, with face cards counted as 10, and the Ace counted as 1 or 11, depending on which is more beneficial to the player. When it is the player’s turn, they can either hit, stand, double-down, or split cards with the same value. For the purpose of this project, we decided to limit the player only to standing or hitting. While reducing player decisions in this fashion changed the odds of winning, it simplified the training and gameplay aspects of the game. We wanted to simplify the game as much as possible without making too many changes since we were unsure of the feasibility of incorporating all factors in the time allotted, and planned to add more factors to the game later if possible.  We also decided to use a soft-17 system of gameplay for the dealer, meaning the dealer will hit until they reach 17 or higher, with the Ace always being counted as 11 points. \n"
   ]
  },
  {
   "cell_type": "markdown",
   "metadata": {},
   "source": [
    "Since the popularization of card-counting in the 1960’s, casinos have made a concerted effort to discourage and prevent people from using the system. This mathematical strategy of gameplay is designed to give a player just enough of an edge over the casino that they could play the “house” for very large amounts of money. While not illegal, card-counting is highly frowned upon by casino management because of how much of an impact it can have on a player’s winnings. The system involves assigning “counts” to each card, then keeping track of a “running-count” for each card that gets dealt into play. By assigning positive values to low cards like 2 and 3, and negative values to higher cards like King and Ace, over time the running count can indicate whether there are more high cards or more low cards left in the deck, allowing a player to bet and play accordingly. When the count is higher than 5-7, there is a significant chance that they will be dealt blackjack on the next hand, which pays out 3-2, as opposed to the usual 1-1 for all other wins. This is the time when the player has the most edge over the casino. There are dozens of unique strategies that follow this principle, but for simplicity we mainly use the Hi-Lo system where values of -1, 0, and +1 are assigned to the cards. Once we had the parameters of gameplay set up, we were able to begin designing our programs.\n"
   ]
  },
  {
   "cell_type": "markdown",
   "metadata": {},
   "source": [
    "## Methods"
   ]
  },
  {
   "cell_type": "markdown",
   "metadata": {},
   "source": [
    "### Reinforcement Learning"
   ]
  },
  {
   "cell_type": "markdown",
   "metadata": {},
   "source": [
    "Reinforcement learning is a subdiscipline of machine learning that consists of training a program by the use of positive and negative reinforcements, which are added to a cumulative score to determine the total reward for a defined action. In game playing artificial intelligence, reinforcements are given with each successful outcome of a game, and a negative reinforcement is given with each loss. This data is stored in a Q table, a data structure consisting of state-move tuples as keys and the total reinforcement as the value. When training AI to play a game, the initial choices are made randomly to explore possible actions, and the reinforcement is adjusted based on whether those random actions were successful. "
   ]
  },
  {
   "cell_type": "markdown",
   "metadata": {},
   "source": [
    "The next step is decreasing the level of randomness for each iteration using a variable named `epsilon`, which changes at a rate of `epsilonDecayFactor`. The decision to make a random move or use previous knowledge is specified in an `epsilonGreedy` function, which generates a random value and compares it to `epsilon`. `epsilon` starts at `1.0`, meaning that 100% of the choices are random, and with each iteration it decays, eventually converging to `0`. By that time, the goal of the program is to have enough data on previous games in the Q table to completely base its decisions off of previous knowledge. By having explored multiple options it is able to correctly choose the one which will result in a higher reward. The reward is directly influenced by a variable `learningRate`, which specifies how much of a reinforcement you are adding every time. "
   ]
  },
  {
   "cell_type": "markdown",
   "metadata": {},
   "source": [
    "For the game of blackjack, we chose to use reinforcement learning because each hand has only 3 possible outcomes: win, draw, or loss. The idea of using reinforcement learning for this game is simple: the state is represented as a player’s hand and the move is either `Hit` or `Stand`. If this choice results in a win, we give a positive reinforcement to the player, and if they lose, we give a negative reinforcement. Since the game is partially based on luck of which cards you were handed, we base our reinforcement off the player’s decision to hit or stand. That way, after playing enough games a player will know when to hit or stand to avoid busting, or hitting a total hand value over the limit of 21. We then use various betting strategies to optimize a player’s reward after winning a game."
   ]
  },
  {
   "cell_type": "markdown",
   "metadata": {},
   "source": [
    "### Betting Strategy"
   ]
  },
  {
   "cell_type": "markdown",
   "metadata": {},
   "source": [
    "In order to really run an effective analysis on the players’ betting patterns, we needed to make sure we included a diverse selection of betting strategies. More importantly, we wanted to ensure that our basic and random players bets diverged enough from the counter to allow for our program to look for differences. "
   ]
  },
  {
   "cell_type": "markdown",
   "metadata": {},
   "source": [
    "In the game, there is a term known as a “bet spread”, corresponding to the table-minimum bet and the maximum bet a player is willing to put down. We set this to be around 10-50. Using a smaller bet spread for each player results in all players appearing indistinguishable from one another during gameplay. However, the players would be allowed to go beyond the bet spread at different times to account for a human-factor of betting known as the Gambler’s Fallacy. This is a cognitive bias in which players bet more money if they win more games, despite the fact that games are statistically independent from each other...unless you’re counting cards. Thus, we end up with players that generally bet within a given range, deviating at times if they’re winning more or if they’re counting cards. This was done to make it more difficult for our program to catch the counter. "
   ]
  },
  {
   "cell_type": "markdown",
   "metadata": {},
   "source": [
    "The main strategies that we used were random, basic, and counter, reflective of our different players. Later, we added various different strategies for the counter in an effort to test our betting analysis program. The random better simply bets random values within the bet spread. The basic player uses a progressive betting system where the bet is increased by a small amount every time the player wins, and decreased every time they lose, only deviating from the bet spread if they win many games in a small span. Finally, the counter places bets based off the count of the table, also incorporating bet spread, betting spikes, and penetration depending on the technique. All of these will be explained in Implementation. "
   ]
  },
  {
   "cell_type": "markdown",
   "metadata": {},
   "source": [
    "### Pearson Correlation and Betting Spikes"
   ]
  },
  {
   "cell_type": "markdown",
   "metadata": {},
   "source": [
    "Once we had a series of players operating under different betting and playing strategies, it was time for the main goal of our experiment: catching the counter. We decided to use two different methods to analyze this. "
   ]
  },
  {
   "cell_type": "markdown",
   "metadata": {},
   "source": [
    "The second method we used was an analysis of betting spikes. This is an event in the game where a player increases their bet by a significantly large amount. For a basic player, this could occur when they decide to leave the table and go all-in on the last hand, when a player is on a “hot streak” and decides to bet big on the next hand, or when the true count of the table gets high enough that a counter decides it would be beneficial to bet big. Our program looks at how much a player increases their bet and whether or not they won the last hand to look for spikes."
   ]
  },
  {
   "cell_type": "markdown",
   "metadata": {},
   "source": [
    "The combination of these two methods would allow us to look for the counter. If a player spikes their bet, the program will then check the correlation of their past bets to determine if it’s a fluke event or if the spike was caused by an increase in table count. "
   ]
  },
  {
   "cell_type": "markdown",
   "metadata": {},
   "source": [
    "## Implementation"
   ]
  },
  {
   "cell_type": "markdown",
   "metadata": {},
   "source": [
    "### Deck / Cards"
   ]
  },
  {
   "cell_type": "markdown",
   "metadata": {},
   "source": [
    "To represent the cards in play, we modified code from ‘Think Python: an Introduction to Software Design’ which consisted of `Hand`, `Deck`, and `Card` objects. We adjusted this code to include additional information and methods required for Blackjack, such as card counts, busting, and multiple decks. The `Card` object was left unchanged. The `Deck` object was changed to keep a running count of cards which is used by card counting players to base their bets off of. This allows card counters to easily access the true count of the cards in play without keeping score in their hand, which is reset every time a game is over and new cards are dealt. The `Hand` object includes additional methods to test whether or not a player has busted, and if they have a blackjack, which involves modifying the value of aces to be 1 or 11 as needed.\n"
   ]
  },
  {
   "cell_type": "code",
   "execution_count": 1,
   "metadata": {
    "collapsed": true
   },
   "outputs": [],
   "source": [
    "import random\n",
    "\n",
    "\n",
    "class Card(object):\n",
    "    \"\"\"represents a standard playing card.\"\"\"\n",
    "\n",
    "    suit_names = [\"Clubs\", \"Diamonds\", \"Hearts\", \"Spades\"]\n",
    "    rank_names = [None, \"Ace\", \"2\", \"3\", \"4\", \"5\", \"6\", \"7\",\n",
    "                  \"8\", \"9\", \"10\", \"Jack\", \"Queen\", \"King\"]\n",
    "\n",
    "    def __init__(self, suit=0, rank=2):\n",
    "        self.suit = suit\n",
    "        self.rank = rank\n",
    "        self.value = self.get_value()\n",
    "\n",
    "    def __str__(self):\n",
    "        return '%s of %s has a value of %s.' % (Card.rank_names[self.rank],\n",
    "                                                Card.suit_names[self.suit], self.value)\n",
    "\n",
    "    def __cmp__(self, other):\n",
    "        t1 = self.suit, self.rank\n",
    "        t2 = other.suit, other.rank\n",
    "        return cmp(t1, t2)\n",
    "\n",
    "    def __lt__(self, other):\n",
    "        if self.suit < other.suit:\n",
    "            return True\n",
    "        elif self.suit > other.suit:\n",
    "            return False\n",
    "        else:\n",
    "            return self.rank < other.rank\n",
    "\n",
    "    def get_value(self):\n",
    "        rank = Card.rank_names[self.rank]\n",
    "        if self.is_ace():\n",
    "            return 11\n",
    "        elif rank in [\"Jack\", \"Queen\", \"King\"]:\n",
    "            return 10\n",
    "        else:\n",
    "            return int(rank)\n",
    "\n",
    "    def is_ace(self):\n",
    "        return Card.rank_names[self.rank] == \"Ace\"\n",
    "\n",
    "\n",
    "class Deck(object):\n",
    "    \"\"\"represents a deck of cards\"\"\"\n",
    "\n",
    "    def __init__(self, numDecks=1):\n",
    "        self.numDecks = numDecks\n",
    "        self.cards = []\n",
    "        self.count = 0\n",
    "        for deck in range(numDecks):\n",
    "            for suit in range(4):\n",
    "                for rank in range(1, 14):\n",
    "                    card = Card(suit, rank)\n",
    "                    self.cards.append(card)\n",
    "        self.shuffle()\n",
    "\n",
    "    def __str__(self):\n",
    "        res = []\n",
    "        for card in self.cards:\n",
    "            res.append(str(card))\n",
    "        return '\\n'.join(res)\n",
    "\n",
    "    def __len__(self):\n",
    "        return len(self.cards)\n",
    "\n",
    "    def add_card(self, card):\n",
    "        \"\"\"add a card to the deck\"\"\"\n",
    "        self.cards.append(card)\n",
    "\n",
    "    def pop_card(self, i=-1):\n",
    "        \"\"\"remove and return a card from the deck.\n",
    "        By default, pop the last card.\"\"\"\n",
    "        card = self.cards.pop(i)\n",
    "        self.count += self.count_card(card)\n",
    "        \n",
    "        if self.empty():\n",
    "            self.reset()\n",
    "\n",
    "        return card\n",
    "\n",
    "    def shuffle(self):\n",
    "        \"\"\"shuffle the cards in this deck\"\"\"\n",
    "        random.shuffle(self.cards)\n",
    "\n",
    "    def sort(self):\n",
    "        \"\"\"sort the cards in ascending order\"\"\"\n",
    "        self.cards.sort()\n",
    "\n",
    "    def move_cards(self, hand, num):\n",
    "        \"\"\"move the given number of cards from the deck into the Hand\"\"\"\n",
    "        for i in range(num):\n",
    "            hand.add_card(self.pop_card())\n",
    "\n",
    "    def count_card(self, card):\n",
    "        card_value = card.get_value()\n",
    "\n",
    "        if card_value >= 10 or card.rank is \"Ace\":\n",
    "            return -1\n",
    "        elif card_value < 10 and card_value > 6:\n",
    "            return 0\n",
    "        elif card_value <= 6:\n",
    "            return 1\n",
    "\n",
    "    def true_count(self):\n",
    "        return self.count / self.remaining_decks()\n",
    "\n",
    "    def remaining_decks(self):\n",
    "        decks = int(round(len(self)/52))\n",
    "        if decks is 0:\n",
    "            return 1\n",
    "        return decks\n",
    "\n",
    "    def penetration(self):\n",
    "        return (self.numDecks*52 - len(self.cards)) / (self.numDecks*52)\n",
    "\n",
    "    def empty(self):\n",
    "        return len(self.cards)==0\n",
    "    \n",
    "    def reset(self):\n",
    "        \n",
    "        self.cards.clear()\n",
    "        self.count = 0\n",
    "        \n",
    "        for deck in range(self.numDecks):\n",
    "            for suit in range(4):\n",
    "                for rank in range(1, 14):\n",
    "                    card = Card(suit, rank)\n",
    "                    self.cards.append(card)\n",
    "        self.shuffle()\n",
    "        \n",
    "\n",
    "class Hand(Deck):\n",
    "    \"\"\"represents a hand of playing cards\"\"\"\n",
    "\n",
    "    def __init__(self, label=''):\n",
    "        self.label = label\n",
    "        self.cards = []\n",
    "\n",
    "    def __str__(self):\n",
    "        for card in self.cards:\n",
    "            print(card)\n",
    "        return \"Value of hand: \" + str(self.get_value())\n",
    "\n",
    "    def __len__(self):\n",
    "        return len(self.cards)\n",
    "\n",
    "    \"\"\"returns the value for the given Hand\"\"\"\n",
    "\n",
    "    def get_value(self):\n",
    "        hand_value = 0\n",
    "        aces = self.get_num_aces()\n",
    "        for card in self.cards:\n",
    "            hand_value += card.value\n",
    "        while (\n",
    "            hand_value > 21) and aces:  # corner case to adjust value of hand given the number of aces and current value of the player's hand\n",
    "            hand_value -= 10\n",
    "            aces -= 1\n",
    "        return hand_value\n",
    "\n",
    "    \"\"\" helper method for get_value()\"\"\"\n",
    "\n",
    "    def get_num_aces(self):\n",
    "        num_aces = 0\n",
    "        for card in self.cards:\n",
    "            if card.is_ace():\n",
    "                num_aces += 1\n",
    "        return num_aces\n",
    "\n",
    "    \"\"\"adds card to hand\"\"\"\n",
    "\n",
    "    def add(self, card):\n",
    "        self.cards.append(card)\n",
    "        return self.cards\n",
    "\n",
    "    def bust(self):\n",
    "        return self.get_value() > 21\n",
    "\n",
    "    def blackjack(self):\n",
    "        if len(self) == 2:\n",
    "            if self.get_num_aces() == 1:\n",
    "                for card in self.cards:\n",
    "                    if card.get_value() == 10:\n",
    "                        return True\n",
    "        return False\n",
    "    \n",
    "    def clear(self):\n",
    "        self.cards.clear()"
   ]
  },
  {
   "cell_type": "markdown",
   "metadata": {},
   "source": [
    "### Player Types"
   ]
  },
  {
   "cell_type": "markdown",
   "metadata": {},
   "source": [
    "In order to test the success of various playing strategies, we implemented three types of players: random, basic, and card counting. The random player starts off by making purely random choices, which eventually become dependent on their Q table with the reinforcements that they received during training. The idea of having a random player is to depend solely on reinforcement learning without any additional information. The basic player is given a matrix consisting of possible hand combinations and the best action to take for each state. This matrix can easily be found online, and corresponds to the statistical outcomes of various states as calculated by statisticians. It is the foundation for what blackjack players call “basic strategy”."
   ]
  },
  {
   "cell_type": "markdown",
   "metadata": {},
   "source": [
    "The goal with the basic player was to see if the reinforcement learning deviated from these values, eventually leading the basic player to make decisions without basing itself off the original strategy. Our card counting player was trained using the same strategy as the basic player, however, we employ various betting strategies to differentiate from a basic or random player who has no knowledge of the running count of the cards. Additionally, the counter was given a slight edge, since some hands in basic strategy (in actual card-counting there are 18 hands), require you to deviate from basic for better odds. In these few cases (for us, 10, since we don’t double down or split) the counter will deviate."
   ]
  },
  {
   "cell_type": "markdown",
   "metadata": {},
   "source": [
    "An interesting observation in our training results is that all types of players converged on similar values, and these values accurately reflect the true odds of blackjack. In a game of blackjack, it is expected that players win about 42.22% of the time, draw about 8.48%, and lose about 49.10%, before incorporating splitting and doubling down. Our players converged on values within only a few percent of the expected values, supporting our initial hypothesis that random and basic players will end up being the same. What surprised us is that the counter player also converged close to these values, indicating that our training could have likely been accomplished with only one `basicGreedy` function."
   ]
  },
  {
   "cell_type": "markdown",
   "metadata": {},
   "source": [
    "### Basic Functions"
   ]
  },
  {
   "cell_type": "markdown",
   "metadata": {},
   "source": [
    "Our entire training structure was based off of the Towers of Hanoi and Tic-Tac-Toe code provided in class, though we ended up making many modifications to the actual training. Some of our basic functions like `makeMove()`, `validMove()`, `end_of_hand()`, and `winner()` are very self explanatory, offering basic functionality for gameplay. "
   ]
  },
  {
   "cell_type": "code",
   "execution_count": 2,
   "metadata": {
    "collapsed": true
   },
   "outputs": [],
   "source": [
    "# makeMove(): applies move to hand\n",
    "def makeMove(hand, move, deck):\n",
    "    if move == 'Hit':\n",
    "        hand.add_card(deck.pop_card())\n",
    "    else:\n",
    "        return\n",
    "    \n",
    "# validMoves(): returns a list of valid moves (hit or stand)\n",
    "def validMoves():\n",
    "    return [\"Hit\", \"Stand\"]\n",
    "\n",
    "# end_of_hand(): returns true if move marks end of play\n",
    "def end_of_hand(hand, move):\n",
    "    if hand.bust():\n",
    "        return True\n",
    "    if move is \"Stand\":\n",
    "        return True\n",
    "    return False\n",
    "\n",
    "# winner(): returns true if p1 beats p2\n",
    "def winner(p1, p2):\n",
    "    if p1.blackjack():\n",
    "        return True\n",
    "    if p2.bust():\n",
    "        return True\n",
    "    return p1.get_value() > p2.get_value()"
   ]
  },
  {
   "cell_type": "markdown",
   "metadata": {},
   "source": [
    "`hand_to_state()` is our way of converting a `Hand` object into a tuple for Q-table lookup, and `state_dealer_tuple()` is used to get a tuple for basic strategy lookup. "
   ]
  },
  {
   "cell_type": "code",
   "execution_count": 3,
   "metadata": {
    "collapsed": true
   },
   "outputs": [],
   "source": [
    "# hand_to_state(): returns a tuple of the hand's value and number of aces\n",
    "def hand_to_state(hand):\n",
    "    value = hand.get_value()\n",
    "    aces = hand.get_num_aces()\n",
    "    return (value, aces)\n",
    "\n",
    "# state_dealer_tuple(): returns a tuple of state and dealer's card\n",
    "def state_dealer_tuple(state, dealer):\n",
    "    dealerCard = str(dealer.cards[0].rank)\n",
    "    if dealerCard is 'Ace':\n",
    "        dealerCard = 'A'\n",
    "    elif dealerCard is 'Jack' or dealerCard is 'Queen' or dealerCard is 'King':\n",
    "        dealerCard = '10'\n",
    "    return (state, dealerCard)"
   ]
  },
  {
   "cell_type": "markdown",
   "metadata": {},
   "source": [
    "Some of the more confusing methods we used included `readCardCountingMatrix` and `readBasicMatrix`, both used to read in the different play matrices found online that correspond to basic strategy. They convert a text file into a dictionary with a state/dealer tuple as the key and a move as the value. "
   ]
  },
  {
   "cell_type": "code",
   "execution_count": 4,
   "metadata": {
    "collapsed": true
   },
   "outputs": [],
   "source": [
    "# readBasicMatrix(): reads in decision matrix for basic player\n",
    "def readBasicMatrix(filename):\n",
    "    decisions = {}\n",
    "    dealer = []\n",
    "    player = []\n",
    "    index = 0\n",
    "    with open(filename) as f:\n",
    "        dealer = f.readline().split()\n",
    "        player = [(int(entry.split(\",\")[0][1:]), int(entry.split(\",\")[1][:1])) for entry in f.readline().split()]\n",
    "        for line in f:\n",
    "            vals = line.split()\n",
    "            for i in range(len(dealer)):\n",
    "                decisions[(player[index], dealer[i])] = vals[i]\n",
    "            index += 1\n",
    "    f.close()\n",
    "    return decisions\n",
    "\n",
    "# readCardCountingmatrix(): reads in card counting matrix with card counts and BC/PA/IC values\n",
    "def readCardCountingMatrix(filename):\n",
    "    cc = {}\n",
    "    with open(filename) as f:\n",
    "        for line in f:\n",
    "            vals = line.split()\n",
    "            cc[vals[0]] = [vals[1:11], vals[11:]] \n",
    "    return cc"
   ]
  },
  {
   "cell_type": "markdown",
   "metadata": {},
   "source": [
    "Finally, we needed a simple way to play the dealer’s hand during gameplay. Since the player and dealer dont take turns between cards, this can be accomplished with a single function that gives the dealer cards until they reach a soft-17 or higher, without the built-in Hand function trying to count Aces as 1."
   ]
  },
  {
   "cell_type": "code",
   "execution_count": 5,
   "metadata": {
    "collapsed": true
   },
   "outputs": [],
   "source": [
    "# playDealer(): makes play decisions for dealer (stand on values of 17 or more) \n",
    "def play_dealer(dealer, deck):\n",
    "    value = dealer.get_value()\n",
    "    while value < 17:\n",
    "        card = deck.pop_card()\n",
    "        dealer.add(card)\n",
    "        value += card.get_value()"
   ]
  },
  {
   "cell_type": "markdown",
   "metadata": {},
   "source": [
    "We also have functions to deal with file IO when reading or writing text files."
   ]
  },
  {
   "cell_type": "code",
   "execution_count": 6,
   "metadata": {
    "collapsed": true
   },
   "outputs": [],
   "source": [
    "import json\n",
    "from ast import literal_eval\n",
    "\n",
    "# writeQ(): write Q table to file\n",
    "def writeQ(filename, Q):\n",
    "    strQ = {}\n",
    "    for entry in Q:\n",
    "        strQ[str(entry)] = Q[entry]\n",
    "    with open(filename, \"w+\") as writer:\n",
    "        writer.write(json.dumps(strQ))\n",
    "    writer.close()\n",
    "\n",
    "# readQ(): read Q table from file\n",
    "def readQ(filename):\n",
    "    with open(filename) as f:\n",
    "        data = f.read().replace(\"\\n\", \" \")\n",
    "    f.close()\n",
    "    strQ = json.loads(data)\n",
    "    Q = {}\n",
    "    for entry in strQ:\n",
    "        Q[literal_eval(entry[1:-1])] = strQ[entry]\n",
    "    return Q"
   ]
  },
  {
   "cell_type": "markdown",
   "metadata": {},
   "source": [
    "### Training"
   ]
  },
  {
   "cell_type": "markdown",
   "metadata": {},
   "source": [
    "In order to train our three different player types, we were able to use the same trainQ function. The difference is the epsilonGreedy function, which we passed as an argument to trainQ and varied depending on whether the player is random, basic, or counter. Respectively, the epsilonGreedy functions are named random_epsilonGreedy, basic_epsilonGreedy, and counter_epsilonGreedy. This allows us to handle a player’s decisions before they use their Q tables and eventually converge on similar values. The difference between the players’ epsilon greedy functions, as explained in the previous section, has to do with the decisions they make during the exploration phase before epsilon decays enough to begin consulting the Q table."
   ]
  },
  {
   "cell_type": "code",
   "execution_count": 7,
   "metadata": {
    "collapsed": true
   },
   "outputs": [],
   "source": [
    "# trainQ(): trains player for nRepetitions using the provided epsion greedy function\n",
    "def trainQ(nRepetitions, epsilonDecayRate, learningRate, epsilonGreedyF):\n",
    "    Q = {}\n",
    "    rho = learningRate\n",
    "    epsilon = 1.0\n",
    "    deck = Deck.Deck()\n",
    "    hand = Deck.Hand()\n",
    "    dealer = Deck.Hand()\n",
    "    \n",
    "    win = 0\n",
    "    loss = 0\n",
    "    bust = 0\n",
    "    draw = 0\n",
    "\n",
    "    for n in range(nRepetitions):\n",
    "        epsilon *= epsilonDecayRate\n",
    "        step = 0\n",
    "        done = False\n",
    "        \n",
    "        hand.add(deck.pop_card())\n",
    "        hand.add(deck.pop_card())\n",
    "        deck.pop_card()\n",
    "        dealer.add(deck.pop_card())\n",
    "\n",
    "        while not done:\n",
    "            step += 1\n",
    "            state = hand_to_state(hand)\n",
    "            move = epsilonGreedyF(Q, epsilon, state, dealer, deck)\n",
    "            makeMove(hand, move, deck)\n",
    "            newState = hand_to_state(hand)         \n",
    "\n",
    "            if state not in Q:\n",
    "                Q[(state, move)] = 0\n",
    "\n",
    "            if end_of_hand(hand, move):  # player stands or busts\n",
    "                play_dealer(dealer, deck)\n",
    "                if hand.bust():\n",
    "                    penalty = 0.5 * (hand.get_value()-21)\n",
    "                    Q[(state, move)] += rho * (-penalty - Q[(state, move)])\n",
    "                    bust += 1\n",
    "                elif winner(hand, dealer):\n",
    "                    Q[(state, move)] += rho * (1 + Q[(state, move)])\n",
    "                    win += 1\n",
    "                elif winner(dealer, hand):\n",
    "                    penalty = 0.03 * (dealer.get_value() - hand.get_value())\n",
    "                    Q[(state, move)] += rho * (Q[(state, move)] - penalty)\n",
    "                    loss += 1\n",
    "                else:\n",
    "                    draw += 1\n",
    "                    \n",
    "                done = True\n",
    "                hand.clear()\n",
    "                dealer.clear()\n",
    "\n",
    "            if step > 1:\n",
    "                Q[(oldState, oldMove)] += rho * (Q[(state, move)] - Q[(oldState, oldMove)])\n",
    "\n",
    "            oldState, oldMove = state, move\n",
    "            state = newState\n",
    "    return Q, (win, loss, bust, draw)\n",
    "\n",
    "\n",
    "# moveFromQ(): makes move based on Q table\n",
    "def moveFromQ(Q, state):\n",
    "    valid = validMoves()\n",
    "    qVal = -1*sys.float_info.max\n",
    "    move = \"\"\n",
    "    for v in valid:\n",
    "        curr = (state, v)\n",
    "        if Q.get(curr, 0) > qVal:\n",
    "            qVal = Q.get(curr, 0)\n",
    "            move = v \n",
    "    return move"
   ]
  },
  {
   "cell_type": "markdown",
   "metadata": {},
   "source": [
    "The random epsilon greedy function is simple: as its name implies, any value less than epsilon will result in the player making a completely random move, either hitting or standing regardless of the value of their hand. As epsilon decays, the random player’s choices are gradually shifting towards non-random choices based off its previous reinforcements in the Q table."
   ]
  },
  {
   "cell_type": "code",
   "execution_count": 8,
   "metadata": {
    "collapsed": true
   },
   "outputs": [],
   "source": [
    "# random_epsilonGreedy(): epsilon greedy function for random player\n",
    "def random_epsilonGreedy(Q, epsilon, state, dealer, deck):\n",
    "    valid = validMoves()\n",
    "    if np.random.uniform() < epsilon:\n",
    "        return valid[random.randint(0, len(valid)-1)]\n",
    "    else:\n",
    "        Qs = np.array([Q.get((state, move), 0) for move in valid])\n",
    "        return valid[np.argmax(Qs)]"
   ]
  },
  {
   "cell_type": "markdown",
   "metadata": {},
   "source": [
    "The basic player’s greedy function is different, it first reads a matrix containing the statistically best moves to make for different hand combinations. It uses this matrix to base its moves at first and then shifts towards relying solely on its Q table. The idea behind providing the basic player with the strategy matrix is to give it an advantage compared to the random player and seeing how this affects the final results and if they deviate from the original strategy. "
   ]
  },
  {
   "cell_type": "code",
   "execution_count": 9,
   "metadata": {
    "collapsed": true
   },
   "outputs": [],
   "source": [
    "# basic_epsilonGreedy(): epsilon greedy function for basic player\n",
    "def basic_epsilonGreedy(Q, epsilon, state, dealer, deck):\n",
    "    valid = validMoves()\n",
    "    decisions = readBasicMatrix(\"basic_matrix.txt\")\n",
    "    lookupTuple = state_dealer_tuple(state, dealer)\n",
    "    if np.random.uniform() < epsilon:\n",
    "        if lookupTuple in decisions:\n",
    "            return decisions[lookupTuple]\n",
    "        else:\n",
    "            return valid[random.randint(0, len(valid)-1)]\n",
    "    else:\n",
    "        Qs = np.array([Q.get((state, move), 0) for move in valid])\n",
    "        return valid[np.argmax(Qs)]\n",
    " \n",
    "    return"
   ]
  },
  {
   "cell_type": "code",
   "execution_count": 10,
   "metadata": {},
   "outputs": [],
   "source": [
    "'''\n",
    "Basic Strategy Matrix:\n",
    "\n",
    "2 3 4 5 6 7 8 9 10 A\n",
    "(8,0) (9,0) (10,0) (11,0) (12,0) (13,0) (14,0) (15,0) (16,0) (17,0) (13,1) (14,1) (15,1) (16,1) (17,1) (18,1) (19,1)\n",
    " Hit   Hit   Hit   Hit   Hit   Hit   Hit   Hit   Hit   Hit \n",
    " Hit   Hit   Hit   Hit   Hit   Hit   Hit   Hit   Hit   Hit \n",
    " Hit   Hit   Hit   Hit   Hit   Hit   Hit   Hit   Hit   Hit \n",
    " Hit   Hit   Hit   Hit   Hit   Hit   Hit   Hit   Hit   Hit \n",
    " Hit   Hit   Stand   Stand   Stand   Hit   Hit   Hit   Hit   Hit \n",
    " Stand   Stand   Stand   Stand   Stand   Hit   Hit   Hit   Hit   Hit \n",
    " Stand   Stand   Stand   Stand   Stand   Hit   Hit   Hit   Hit   Hit \n",
    " Stand   Stand   Stand   Stand   Stand   Hit   Hit   Hit   Hit   Hit \n",
    " Stand   Stand   Stand   Stand   Stand   Hit   Hit   Hit   Hit   Hit \n",
    " Stand   Stand   Stand   Stand   Stand   Stand   Stand   Stand   Stand   Stand \n",
    " Hit   Hit   Hit   Hit   Hit   Hit   Hit   Hit   Hit   Hit \n",
    " Hit   Hit   Hit   Hit   Hit   Hit   Hit   Hit   Hit   Hit \n",
    " Hit   Hit   Hit   Hit   Hit   Hit   Hit   Hit   Hit   Hit \n",
    " Hit   Hit   Hit   Hit   Hit   Hit   Hit   Hit   Hit   Hit  \n",
    " Hit   Hit   Hit   Hit   Hit   Hit   Hit   Hit   Hit   Hit \n",
    " Stand   Stand   Stand   Stand   Stand   Stand   Stand   Hit   Hit   Hit \n",
    " Stand   Stand   Stand   Stand   Stand   Stand   Stand   Stand   Stand   Stand \n",
    "''';"
   ]
  },
  {
   "cell_type": "markdown",
   "metadata": {},
   "source": [
    "Finally, the counter’s epsilon greedy function is more complex but similar in nature to the basic player’s function. The counter bases most of its moves off the same strategy matrix as the basic player, however, it makes a choice on specific moves that gives it a slight advantage when the count is at a certain level. For example, a basic player would hit on a play of 16 vs. 9, however, a card counter would stand if the count is at +5 or higher. "
   ]
  },
  {
   "cell_type": "code",
   "execution_count": 11,
   "metadata": {
    "collapsed": true
   },
   "outputs": [],
   "source": [
    "# counter_epsilonGreedy(): epsilon greedy function for card counter\n",
    "def counter_epsilonGreedy(Q, epsilon, state, dealer, deck):\n",
    "    valid = validMoves()\n",
    "    basic_decisions = readBasicMatrix(\"basic_matrix.txt\")\n",
    "    counter_decisions = readBasicMatrix(\"counter_matrix.txt\")\n",
    "    lookupTuple = state_dealer_tuple(state, dealer)\n",
    "    if np.random.uniform() < epsilon:\n",
    "        if lookupTuple in counter_decisions:\n",
    "            decision = counter_decisions[lookupTuple]\n",
    "            if decision == \"Hit\" or decision == \"Stand\":\n",
    "                return decision\n",
    "            else:\n",
    "                print(lookupTuple)\n",
    "                print(\"|\" + str(decision) + \"|\")\n",
    "                print(deck.true_count())\n",
    "                if deck.true_count() >= int(decision):\n",
    "                    if basic_decisions[lookupTuple] is \"Stand\":\n",
    "                        return \"Hit\"\n",
    "                    else:\n",
    "                        return \"Stand\"\n",
    "        elif lookupTuple in basic_decisions:\n",
    "            return basic_decisions[lookupTuple]\n",
    "        else:\n",
    "            return valid[random.randint(0, len(valid)-1)]\n",
    "    else:\n",
    "        Qs = np.array([Q.get((state, move), 0) for move in valid])\n",
    "        return valid[np.argmax(Qs)]\n",
    "    \n",
    "    return"
   ]
  },
  {
   "cell_type": "code",
   "execution_count": 12,
   "metadata": {
    "collapsed": true
   },
   "outputs": [],
   "source": [
    "'''\n",
    "Card Counter Matrix:\n",
    "\n",
    "2 3 4 5 6 7 8 9 10 A\n",
    "(8,0) (9,0) (10,0) (11,0) (12,0) (13,0) (14,0) (15,0) (16,0) (17,0) (13,1) (14,1) (15,1) (16,1) (17,1) (18,1) (19,1)\n",
    " Hit   Hit   Hit   Hit   Hit   Hit   Hit   Hit   Hit   Hit \n",
    " Hit   Hit   Hit   Hit   Hit   Hit   Hit   Hit   Hit   Hit \n",
    " Hit   Hit   Hit   Hit   Hit   Hit   Hit   Hit   Hit   Hit \n",
    " Hit   Hit   Hit   Hit   Hit   Hit   Hit   Hit   Hit   Hit \n",
    " 4   2   0   -1   -1   Hit   Hit   Hit   Hit   Hit \n",
    " -1   -2   Stand   Stand   Stand   Hit   Hit   Hit   Hit   Hit \n",
    " Stand   Stand   Stand   Stand   Stand   Hit   Hit   Hit   Hit   Hit \n",
    " Stand   Stand   Stand   Stand   Stand   Hit   Hit   Hit   4   Hit \n",
    " Stand   Stand   Stand   Stand   Stand   Hit   Hit   5   0   Hit \n",
    " Stand   Stand   Stand   Stand   Stand   Stand   Stand   Stand   Stand   Stand \n",
    " Hit   Hit   Hit   Hit   Hit   Hit   Hit   Hit   Hit   Hit \n",
    " Hit   Hit   Hit   Hit   Hit   Hit   Hit   Hit   Hit   Hit \n",
    " Hit   Hit   Hit   Hit   Hit   Hit   Hit   Hit   Hit   Hit \n",
    " Hit   Hit   Hit   Hit   Hit   Hit   Hit   Hit   Hit   Hit  \n",
    " Hit   Hit   Hit   Hit   Hit   Hit   Hit   Hit   Hit   Hit \n",
    " Stand   Stand   Stand   Stand   Stand   Stand   Stand   Hit   Hit   Hit \n",
    " Stand   Stand   Stand   Stand   Stand   Stand   Stand   Stand   Stand   Stand \n",
    "''';"
   ]
  },
  {
   "cell_type": "markdown",
   "metadata": {},
   "source": [
    "As far as actually using the Q-tables in gameplay, we needed a way to avoid training a player every time we wanted them to play games. Due to the complexity of the game and the various possible states, we needed to train each player for enough iterations to make sure they saw enough states. The states we really cared about were the ones containing 0-2 Aces, since anything more than that is uncommon enough that it didn’t matter much. This lead to about 23*2*3 = 138 (hands*hit/stand*1-2 Aces) different states that we wanted to catch. To accomplish this, we ran every player with 10,000 iterations, then saved their Q-tables as a .json file that could easily be read into a dictionary when we wanted to run each player. "
   ]
  },
  {
   "cell_type": "markdown",
   "metadata": {},
   "source": [
    "### Betting Strategies"
   ]
  },
  {
   "cell_type": "markdown",
   "metadata": {},
   "source": [
    "Now we will take a more in-depth look at the betting strategies we used for each function. As stated earlier, the random betting was simply a random scalar multiple of the table minimum to keep things simple, allowing the random player to bet up to seven times the table minimum to occasionally step outside the bet spread."
   ]
  },
  {
   "cell_type": "code",
   "execution_count": 13,
   "metadata": {
    "collapsed": true
   },
   "outputs": [],
   "source": [
    "# randomBet(): makes a bet for random player\n",
    "def randomBet(tableMin, won, bet):\n",
    "    return random.randint(1, 6) * tableMin"
   ]
  },
  {
   "cell_type": "markdown",
   "metadata": {},
   "source": [
    "The basic player was a bit more controlled. If they won they up their bet by a random multiple of 5, and if they lost they reduce it. To keep them from dipping below the table min and from betting too far above the bet spread, we use min and max functions to control the bounds of the bet."
   ]
  },
  {
   "cell_type": "code",
   "execution_count": 14,
   "metadata": {
    "collapsed": true
   },
   "outputs": [],
   "source": [
    "# basicBet(): makes a bet for basic player\n",
    "def basicBet(tableMin, won, bet):\n",
    "    if won:\n",
    "        return min(bet + (5 * (random.randint(1, 5))), 7*tableMin)\n",
    "    else:\n",
    "        return max(bet - (5 * (random.randint(1, 5))), tableMin)"
   ]
  },
  {
   "cell_type": "markdown",
   "metadata": {},
   "source": [
    "The counter bet is far more complex since the counter has more information, as well as multiple different betting strategies. The strategies employed by various counters were obvious, basic, penetration, camo, and all-in. "
   ]
  },
  {
   "cell_type": "code",
   "execution_count": 15,
   "metadata": {
    "collapsed": true
   },
   "outputs": [],
   "source": [
    "# counterBet(): makes a bet for card counting player (defaults to basic, else calls appropriate method)\n",
    "def counterBet(tableMin, count, deck, bet, won, counterType):    \n",
    "    if counterType is \"obvious\":\n",
    "        return obviousBet(tableMin, count)\n",
    "    elif counterType is \"penetration\":\n",
    "        return penetrationBet(tableMin, count, deck, bet, won)\n",
    "    elif counterType is \"camo\":\n",
    "        return camouflageBet(tableMin, count, deck, bet, won)\n",
    "    elif counterType is \"allin\":\n",
    "        return allInBet(tableMin, count, deck, bet, won)\n",
    "    else:\n",
    "        return basicCounterBet(tableMin, count)"
   ]
  },
  {
   "cell_type": "markdown",
   "metadata": {},
   "source": [
    "The obvious bet was a control betting scheme, where the counter bets a fixed value directly correlated to the table count. This way, we could have a maximum correlation value to test later in our betting analysis."
   ]
  },
  {
   "cell_type": "code",
   "execution_count": 16,
   "metadata": {
    "collapsed": true
   },
   "outputs": [],
   "source": [
    "# obviousBet(): makes a bet for card counting player (obvious)\n",
    "def obviousBet(tableMin, count):\n",
    "    if count < 1:\n",
    "        return tableMin\n",
    "    elif count >= 1 and count < 5:\n",
    "        return tableMin*(2**(count-1))\n",
    "    else:\n",
    "        return tableMin*12"
   ]
  },
  {
   "cell_type": "markdown",
   "metadata": {},
   "source": [
    "The basic counter bets some variation of the table min depending on the +/-/0 value of the table count to introduce some randomness, while still betting off the count to a certain degree. "
   ]
  },
  {
   "cell_type": "code",
   "execution_count": 17,
   "metadata": {
    "collapsed": true
   },
   "outputs": [],
   "source": [
    "# basicCounterBet(): makes a bet for card counting player (basic)\n",
    "def basicCounterBet(tableMin, count):\n",
    "    if count < 0:\n",
    "        return tableMin + 5*random.randint(0, 3)\n",
    "    elif count == 0:\n",
    "        return tableMin + 10*random.randint(0, 3)\n",
    "    else:\n",
    "        return tableMin + round(count)*5*random.randint(0, 3)"
   ]
  },
  {
   "cell_type": "markdown",
   "metadata": {},
   "source": [
    "The penetration, camo, and all-in bets are a bit more sophisticated, all designed to conceal the counters intentions from the casino. The term penetration in blackjack refers to how deep into the “shoe” the cards have been dealt, where the shoe is the shuffled combination of all decks being used. For a 6-deck game, which is what we use, the shoe contains up to 6 decks at a time. As the shoe becomes more penetrated, the true count of the table becomes more informative for the counter. We found a good penetration value to be `0.6`, meaning 60% of the cards in the shoe have been dealt out already. The player uses the same progressive betting pattern as the basic player, all the while maintaining the count of the deck, until the shoe has been penetrated far enough. It then begins using the basic counter bet mentioned previously to make decisions off the count. In a real-life game, players can see the discard tray used by the dealer allowing them to estimate the penetration, so it wasn’t unreasonable for us to provide this information to the player. This betting scheme hides the correlation between a player’s bets and the table count, since 60% of the game will be played without the count."
   ]
  },
  {
   "cell_type": "code",
   "execution_count": 18,
   "metadata": {
    "collapsed": true
   },
   "outputs": [],
   "source": [
    "# penetrationBet(): makes a bet for card counting player (pentration)\n",
    "def penetrationBet(tableMin, count, deck, bet, won):\n",
    "    if deck.penetration() < 0.6:\n",
    "        return basicBet(tableMin, won, bet)\n",
    "    else:\n",
    "        return basicCounterBet(tableMin, count)"
   ]
  },
  {
   "cell_type": "markdown",
   "metadata": {},
   "source": [
    "The camo and all-in bets were designed to hide from the house in more clever ways. Our camo betting scheme takes into account that most players will not raise their bet if they just lost a hand, as well as the fact that most players tend not to drastically spike their bets. It uses the penetration bet to get an initial betting value. It then adjusts this value accordingly if the counter lost the last hand and if the penetration bet provides too high of a spike. This allows the counter to still bet off the table count, but to conceal themselves more effectively."
   ]
  },
  {
   "cell_type": "code",
   "execution_count": 19,
   "metadata": {
    "collapsed": true
   },
   "outputs": [],
   "source": [
    "# camouflageBet(): makes a bet for card counting player (camouflage)\n",
    "def camouflageBet(tableMin, count, deck, bet, won):\n",
    "    initialBet = penetrationBet(tableMin, count, deck, bet, won)\n",
    "    if won is False:\n",
    "        if initialBet == tableMin:\n",
    "            return tableMin\n",
    "        else:\n",
    "            bestBet = min(bet + round(((initialBet-bet)/2) / 5)*5, round(((initialBet-tableMin)/2) / 5)*5)\n",
    "            return max(bestBet, tableMin)\n",
    "    elif won is None:\n",
    "        return bet\n",
    "    else:\n",
    "        return initialBet"
   ]
  },
  {
   "cell_type": "markdown",
   "metadata": {},
   "source": [
    "Lastly, the all-in bet is the closest thing to gambling that the counter does. It is not uncommon in casino games for players to bet the rest of their bankroll (a term used to describe the amount of money a player is willing to spend over the course of N-games) on the last round of a game before going home. This type of activity will always be seen as a spike, but casinos will tend to ignore it if the player leaves the table afterwards. The all-in counter uses penetration to wait for 75% of the shoe to be dealt into play. In the event that the shoe is 75% penetrated and the table count goes above 7, the counter will bet half their bankroll, which we have allotted at $100,000, then they will leave the table. If those conditions are not met, they play the same as a basic player, never playing off the table count. This allows a counter one chance to win big, since a high count indicates a good chance of getting blackjack, and over 100 games they will walk out with big winnings."
   ]
  },
  {
   "cell_type": "code",
   "execution_count": 20,
   "metadata": {
    "collapsed": true
   },
   "outputs": [],
   "source": [
    "# allInBet(): goes all in if the count is +7 or higher\n",
    "def allInBet(tableMin, count, deck, bet, won):\n",
    "    if deck.penetration() < 0.75:\n",
    "        return basicBet(tableMin, won, bet)\n",
    "    else:\n",
    "        if count > 7:\n",
    "            return 50000\n",
    "        else:\n",
    "            return basicBet(tableMin, won, bet)"
   ]
  },
  {
   "cell_type": "markdown",
   "metadata": {},
   "source": [
    "### Betting Analysis"
   ]
  },
  {
   "cell_type": "markdown",
   "metadata": {},
   "source": [
    "To run a betting analysis, we needed a way to pass game data to the analysis program. We decided not to have them run in time with each other for the sake of simplicity, and planned to add concurrency later if we saw fit, but never got around to it. Instead, we had the `playGames()` function output all relevant data about each game to a file. This data included player type, whether the player won that game or not,  player bet, table count, player and dealer hands, and penetration value. Only some of this data is used in analysis, while all of it was used for our own purposes to see what our players were doing. Our analysis focuses on player bet, table count, and if they `won_last_game`, a value retrieved with a simple `i-1` indexing of the table for all `i > 0`."
   ]
  },
  {
   "cell_type": "code",
   "execution_count": 21,
   "metadata": {},
   "outputs": [],
   "source": [
    "# playGames(): plays numGames games using the provided Q table and betting function\n",
    "def playGames(Q, numGames, betF, counterType=None):\n",
    "    tableMin = 10\n",
    "    bet = tableMin\n",
    "    playerBalance = 100000\n",
    "    won_last_game = False\n",
    "    deck = Deck.Deck()\n",
    "    deck.shuffle()\n",
    "    player = Deck.Hand()\n",
    "    dealer = Deck.Hand()\n",
    "    \n",
    "    win = 0\n",
    "    loss = 0\n",
    "    bust = 0\n",
    "    draw = 0\n",
    "    \n",
    "    for n in range(numGames):\n",
    "     \n",
    "        if counterType is not None:\n",
    "            bet = betF(tableMin, deck.true_count(), deck, bet, won_last_game, counterType)\n",
    "        else:\n",
    "            bet = betF(tableMin, won_last_game, bet)\n",
    "   \n",
    "        playerBalance -= bet\n",
    "        count_at_bet = deck.true_count()\n",
    "        done = False\n",
    "        print(\"-------------------------------\")\n",
    "        print(\"Game number \" + str(n+1))\n",
    "        print(\"Running count is \" + str(deck.count))\n",
    "        print(\"Table count is \" + str(count_at_bet))\n",
    "        print(\"Player bets $\" + str(bet))\n",
    "        player.add(deck.pop_card())     #deal to player\n",
    "        player.add(deck.pop_card())     #deal to player\n",
    "        dealer.add(deck.pop_card())     #give dealer card\n",
    "        print(\"Player hand: \")\n",
    "        print(player, end=\"\\n\\n\")\n",
    "        print(\"Dealer hand: \")\n",
    "        print(dealer, end=\"\\n\\n\")\n",
    "        \n",
    "        while not done:\n",
    "            move = moveFromQ(Q, hand_to_state(player))\n",
    "            makeMove(player, move, deck)\n",
    "            print(\"Player decides to \" + move)\n",
    "            print(\"Player hand: \")\n",
    "            print(player, end=\"\\n\\n\")\n",
    "            if end_of_hand(player, move):  # player stands or busts\n",
    "                play_dealer(dealer, deck)\n",
    "                if player.bust():\n",
    "                    print(\"Player Busted!\")\n",
    "                    print(\"Player: \" + str(player.get_value()))\n",
    "                    print(\"Dealer: \" + str(dealer.get_value()))\n",
    "                    won_last_game = False\n",
    "                    bust += 1\n",
    "                elif winner(player, dealer):\n",
    "                    if player.blackjack():\n",
    "                        print(\"BLACKJACK!\")\n",
    "                        playerBalance += bet*2.5\n",
    "                    else:\n",
    "                        print(\"Player Won!\")\n",
    "                        playerBalance += bet*2\n",
    "                    print(\"Player: \" + str(player.get_value()))\n",
    "                    print(\"Dealer: \" + str(dealer.get_value()))\n",
    "                    won_last_game = True\n",
    "                    win += 1\n",
    "                elif winner(dealer, player):\n",
    "                    print(\"Dealer won...\")\n",
    "                    print(\"Player: \" + str(player.get_value()))\n",
    "                    print(\"Dealer: \" + str(dealer.get_value()))\n",
    "                    won_last_game = False\n",
    "                    loss += 1\n",
    "                else:\n",
    "                    print(\"Draw!\")\n",
    "                    print(\"Player: \" + str(player.get_value()))\n",
    "                    print(\"Dealer: \" + str(dealer.get_value()))\n",
    "                    playerBalance += bet\n",
    "                    won_last_game = None\n",
    "                    draw += 1\n",
    "                    \n",
    "                done = True\n",
    "                writeGameData(counterType, won_last_game, bet, count_at_bet, hand_to_state(player), hand_to_state(dealer), deck.penetration())\n",
    "                player.clear()\n",
    "                dealer.clear()\n",
    "                print()\n",
    "                   \n",
    "        if(counterType is \"allin\"):\n",
    "            if bet > 500:\n",
    "                print(\"Big Spender!!! Balance:\", playerBalance)\n",
    "                break;\n",
    "                     \n",
    "    return playerBalance, (win, loss, bust, draw)\n",
    "\n",
    "\n",
    "# writeGameData(): write game data to file\n",
    "def writeGameData(counterType, won, bet, count, state, dealer, penetration):\n",
    "    with open(\"game_data.txt\", \"a+\") as f:\n",
    "        f.write(str(won) + \"\\t\" + str(bet) + \"\\t\" + str(count) + \"\\t\" + str(state) + \"\\t\" + str(dealer) + \"\\t\" + str(penetration) + \"\\t\" + str(counterType) + \"\\n\")\n",
    "    f.close()"
   ]
  },
  {
   "cell_type": "markdown",
   "metadata": {},
   "source": [
    "Our whole betting analysis is run as a script over the entirety of the game data for a certain player, returning the Pearson coefficient and if a flag was spiked or not. We wrote a method that calculates the Pearson coefficient for table count and player bet, though we realized later that this method is already included in the numpy library. However, both methods run the same, so it was good to know that we were coding the correct method. The formula is readily available online and was just translated to python code."
   ]
  },
  {
   "cell_type": "code",
   "execution_count": 22,
   "metadata": {
    "collapsed": true
   },
   "outputs": [],
   "source": [
    "# pearson(): finds the correlation coefficient between X and Y\n",
    "def pearson(X, Y):\n",
    "    N = len(X)\n",
    "    if N != len(Y):\n",
    "        return None\n",
    "    sqrX = [x**2 for x in X]\n",
    "    sqrY = [y**2 for y in Y]\n",
    "    XY = []\n",
    "    for i in range(N):\n",
    "        XY.append(X[i]*Y[i])\n",
    "    r = (N*sum(XY) - sum(X)*sum(Y)) / math.sqrt((N*sum(sqrX)-sum(X)**2)*(N*sum(sqrY)-sum(Y)**2))\n",
    "    return r"
   ]
  },
  {
   "cell_type": "markdown",
   "metadata": {},
   "source": [
    "Our spike analysis was a bit more interesting. It begins by checking if the current bet is too much of a jump from the last bet. Because of the definition of a spike, this is the most important factor. Then it checks if the last game was won or not, allowing players to spike if they won the last game. If both of these checks fail, it does one last check of the table count. If the table count is above 2, a flag is thrown. We added this final check because the whole point of this is to keep players from making money. If a player spikes and their betting is correlated with the count, we only really care when the count is high enough to hurt the casino. This could be modified for any constraints though, disregarding the table count and throwing a flag any time someone deviates from their bet too much."
   ]
  },
  {
   "cell_type": "code",
   "execution_count": 23,
   "metadata": {
    "collapsed": true
   },
   "outputs": [],
   "source": [
    "# spikeFlag(): checks that a user is not increasing their bet by a large margin (spiking)\n",
    "def spikeFlag(x, y, won, tableMin, filename):\n",
    "    for i in range(1, len(y)):\n",
    "        if (y[i] - y[i-1]) > 4*tableMin:\n",
    "            if won[i-1] == \"False\":\n",
    "                if x[i] > 2:\n",
    "                    return \"Flag spike! for game: \" + str(i)\n",
    "    return \"none\""
   ]
  },
  {
   "cell_type": "markdown",
   "metadata": {},
   "source": [
    "Neither of these methods is effective on their own, and are best used together as a way to inform casino management that someone may be counting cards."
   ]
  },
  {
   "cell_type": "code",
   "execution_count": 24,
   "metadata": {
    "collapsed": true
   },
   "outputs": [],
   "source": [
    "# plot(): plots the correlation graph\n",
    "def plot(x, y):\n",
    "    plt.plot(x, y, 'ro')\n",
    "    plt.axis([-15, 15, 0, 500])\n",
    "    plt.show()\n",
    "    \n",
    "# runAnalysis(): read game data into lists and run analysis methods\n",
    "def runAnalysis(filename):\n",
    "    x = []\n",
    "    y = []\n",
    "    won = []\n",
    "    with open(filename) as f:\n",
    "        for line in f:\n",
    "            vals = line.split()\n",
    "            won.append(vals[0])\n",
    "            x.append(float(vals[2]))\n",
    "            y.append(float(vals[1]))\n",
    "    f.close()\n",
    "    print(pearson(x, y))\n",
    "    print(np.corrcoef(x, y)[0, 1])\n",
    "    print(spikeFlag(x, y, won, 10, filename))\n",
    "    plot(x, y)"
   ]
  },
  {
   "cell_type": "markdown",
   "metadata": {},
   "source": [
    "## Results"
   ]
  },
  {
   "cell_type": "markdown",
   "metadata": {},
   "source": [
    "Overall, our final results turned out to be much different than we expected. As mentioned earlier, all of our players ended up converging on similar values. We calculated performance off of a Win/Loss/Bust/Draw ratio as well as the final balance in each player’s bankroll. In order to get a good sample size we ran 100 games over 100 iterations for each player to get 10,000 total games, averaging everything at the end. This way, we still got a good volume of games to analyze, but all of our numbers came out neatly out of 100. Our final results for each player were as follows:"
   ]
  },
  {
   "cell_type": "markdown",
   "metadata": {},
   "source": [
    "| Player                | Win   | Loss  | Bust | Draw | Balance   |\n",
    "|-----------------------|-------|-------|------|------|-----------|\n",
    "| Basic                 | 39.58 | 54.33 | 0.00 | 6.09 | 99662.30  |\n",
    "| Counter               | 39.27 | 53.98 | 0.00 | 5.76 | 101150.52 |\n",
    "| Counter (All-In)      | 46.00 | 50.00 | 0.00 | 4.00 | 100137.50 |\n",
    "| Counter (Basic)       | 48.00 | 48.00 | 0.00 | 4.00 | 99970.00  |\n",
    "| Counter (Camouflage)  | 40.00 | 54.00 | 0.00 | 6.00 | 99692.50  |\n",
    "| Counter (Obvious)     | 40.30 | 54.65 | 0.00 | 5.05 | 99710.62  |\n",
    "| Counter (Penetration) | 40.30 | 53.50 | 0.00 | 6.20 | 99767.50  |\n",
    "| Random                | 41.20 | 52.99 | 0.00 | 5.81 | 99768.40  |"
   ]
  },
  {
   "cell_type": "markdown",
   "metadata": {},
   "source": [
    "As mentioned earlier, all of our players stay within the bounds of what we deem acceptable for average blackjack results. The section for Bust is zero across all columns because our players actually busted so infrequently that over 10,000 games they average to incredibly small values. "
   ]
  },
  {
   "cell_type": "markdown",
   "metadata": {},
   "source": [
    "It’s also important to note that since the betting can vary so much for each player, the final average balance varies between each 10,000 runs. Fortunately, the balance is still indicative of player performance, since our counters who do not try to hide from the casino make more money (better yet, lose less money in most cases) than the basic and random players. Our counters that attempted to hide from the casino did so at the expense of not making as much money, which is a fantastic result. This proves that betting strategies that attempt to hide are not as effective at making more money since they are forced to ignore the table count at times, and as a corollary it shows that playing off the table count can win you more money than you lose. "
   ]
  },
  {
   "cell_type": "markdown",
   "metadata": {},
   "source": [
    "It’s also exciting to see that our all-in player came out with positive winnings. While this doesn’t mean that the player won big every 100 games, it does indicate that in at least one round of 100, the all-in player successfully played a large bet on a high count and won blackjack on the next hand. "
   ]
  },
  {
   "cell_type": "markdown",
   "metadata": {},
   "source": [
    "Furthermore, our betting analysis doesn’t catch the attempting to hide. It will occasionally flag the penetration and camo players with spikes, but since they wait to bet big, their correlation is low enough to be ignored. On the other side of the game, our basic player never got flagged and our random player only occasionally. When both players were analyzed for correlation, they were completely negligible, sitting at around +/-0.03, indicating zero correlation between table count and bet, as they should."
   ]
  },
  {
   "cell_type": "code",
   "execution_count": 25,
   "metadata": {
    "collapsed": true
   },
   "outputs": [],
   "source": [
    "import Deck\n",
    "import numpy as np\n",
    "import random\n",
    "import sys\n",
    "import fileIO\n",
    "\n",
    "# fullRun(): allows you to specify how many games to run\n",
    "def fullRun(playerType, numGames, betF, counterType=None):\n",
    "    Q = fileIO.readQ(playerType + \"Q.json\")\n",
    "    balance, results = playGames(Q, numGames, betF, counterType)\n",
    "    if counterType is not None:\n",
    "        playerType += \"_\" + counterType\n",
    "    with open(playerType + '_results.txt', 'a+') as writer:\n",
    "        writer.write(str(results[0]) + \" \" + str(results[1]) + \" \" + str(results[2]) + \" \" + str(results[3]) + \" \" + str(balance) + '\\n')\n",
    "    writer.close()"
   ]
  },
  {
   "cell_type": "code",
   "execution_count": 26,
   "metadata": {},
   "outputs": [
    {
     "name": "stdout",
     "output_type": "stream",
     "text": [
      "-------------------------------\n",
      "Game number 1\n",
      "Running count is 0\n",
      "Table count is 0.0\n",
      "Player bets $10\n",
      "Player hand: \n",
      "Jack of Spades has a value of 10.\n",
      "5 of Spades has a value of 5.\n",
      "Value of hand: 15\n",
      "\n",
      "Dealer hand: \n",
      "7 of Hearts has a value of 7.\n",
      "Value of hand: 7\n",
      "\n",
      "Player decides to Stand\n",
      "Player hand: \n",
      "Jack of Spades has a value of 10.\n",
      "5 of Spades has a value of 5.\n",
      "Value of hand: 15\n",
      "\n",
      "Dealer won...\n",
      "Player: 15\n",
      "Dealer: 20\n",
      "\n",
      "-------------------------------\n",
      "Game number 2\n",
      "Running count is 2\n",
      "Table count is 2.0\n",
      "Player bets $10\n",
      "Player hand: \n",
      "8 of Diamonds has a value of 8.\n",
      "10 of Clubs has a value of 10.\n",
      "Value of hand: 18\n",
      "\n",
      "Dealer hand: \n",
      "4 of Spades has a value of 4.\n",
      "Value of hand: 4\n",
      "\n",
      "Player decides to Stand\n",
      "Player hand: \n",
      "8 of Diamonds has a value of 8.\n",
      "10 of Clubs has a value of 10.\n",
      "Value of hand: 18\n",
      "\n",
      "Player Won!\n",
      "Player: 18\n",
      "Dealer: 13\n",
      "\n",
      "-------------------------------\n",
      "Game number 3\n",
      "Running count is 1\n",
      "Table count is 1.0\n",
      "Player bets $35\n",
      "Player hand: \n",
      "9 of Spades has a value of 9.\n",
      "3 of Hearts has a value of 3.\n",
      "Value of hand: 12\n",
      "\n",
      "Dealer hand: \n",
      "5 of Clubs has a value of 5.\n",
      "Value of hand: 5\n",
      "\n",
      "Player decides to Stand\n",
      "Player hand: \n",
      "9 of Spades has a value of 9.\n",
      "3 of Hearts has a value of 3.\n",
      "Value of hand: 12\n",
      "\n",
      "Draw!\n",
      "Player: 12\n",
      "Dealer: 12\n",
      "\n",
      "-------------------------------\n",
      "Game number 4\n",
      "Running count is 3\n",
      "Table count is 3.0\n",
      "Player bets $20\n",
      "Player hand: \n",
      "10 of Spades has a value of 10.\n",
      "King of Diamonds has a value of 10.\n",
      "Value of hand: 20\n",
      "\n",
      "Dealer hand: \n",
      "Ace of Hearts has a value of 11.\n",
      "Value of hand: 11\n",
      "\n",
      "Player decides to Stand\n",
      "Player hand: \n",
      "10 of Spades has a value of 10.\n",
      "King of Diamonds has a value of 10.\n",
      "Value of hand: 20\n",
      "\n",
      "Player Won!\n",
      "Player: 20\n",
      "Dealer: 13\n",
      "\n",
      "-------------------------------\n",
      "Game number 5\n",
      "Running count is 0\n",
      "Table count is 0.0\n",
      "Player bets $30\n",
      "Player hand: \n",
      "Jack of Hearts has a value of 10.\n",
      "3 of Clubs has a value of 3.\n",
      "Value of hand: 13\n",
      "\n",
      "Dealer hand: \n",
      "9 of Clubs has a value of 9.\n",
      "Value of hand: 9\n",
      "\n",
      "Player decides to Stand\n",
      "Player hand: \n",
      "Jack of Hearts has a value of 10.\n",
      "3 of Clubs has a value of 3.\n",
      "Value of hand: 13\n",
      "\n",
      "Player Won!\n",
      "Player: 13\n",
      "Dealer: 25\n",
      "\n",
      "-------------------------------\n",
      "Game number 6\n",
      "Running count is 1\n",
      "Table count is 1.0\n",
      "Player bets $55\n",
      "Player hand: \n",
      "3 of Diamonds has a value of 3.\n",
      "7 of Spades has a value of 7.\n",
      "Value of hand: 10\n",
      "\n",
      "Dealer hand: \n",
      "6 of Hearts has a value of 6.\n",
      "Value of hand: 6\n",
      "\n",
      "Player decides to Stand\n",
      "Player hand: \n",
      "3 of Diamonds has a value of 3.\n",
      "7 of Spades has a value of 7.\n",
      "Value of hand: 10\n",
      "\n",
      "Dealer won...\n",
      "Player: 10\n",
      "Dealer: 17\n",
      "\n",
      "-------------------------------\n",
      "Game number 7\n",
      "Running count is 4\n",
      "Table count is 4.0\n",
      "Player bets $40\n",
      "Player hand: \n",
      "9 of Diamonds has a value of 9.\n",
      "3 of Spades has a value of 3.\n",
      "Value of hand: 12\n",
      "\n",
      "Dealer hand: \n",
      "8 of Spades has a value of 8.\n",
      "Value of hand: 8\n",
      "\n",
      "Player decides to Stand\n",
      "Player hand: \n",
      "9 of Diamonds has a value of 9.\n",
      "3 of Spades has a value of 3.\n",
      "Value of hand: 12\n",
      "\n",
      "Player Won!\n",
      "Player: 12\n",
      "Dealer: 26\n",
      "\n",
      "-------------------------------\n",
      "Game number 8\n",
      "Running count is 4\n",
      "Table count is 4.0\n",
      "Player bets $45\n",
      "Player hand: \n",
      "King of Clubs has a value of 10.\n",
      "Queen of Clubs has a value of 10.\n",
      "Value of hand: 20\n",
      "\n",
      "Dealer hand: \n",
      "King of Hearts has a value of 10.\n",
      "Value of hand: 10\n",
      "\n",
      "Player decides to Stand\n",
      "Player hand: \n",
      "King of Clubs has a value of 10.\n",
      "Queen of Clubs has a value of 10.\n",
      "Value of hand: 20\n",
      "\n",
      "Draw!\n",
      "Player: 20\n",
      "Dealer: 20\n",
      "\n",
      "-------------------------------\n",
      "Game number 9\n",
      "Running count is 0\n",
      "Table count is 0.0\n",
      "Player bets $35\n",
      "Player hand: \n",
      "Jack of Diamonds has a value of 10.\n",
      "Jack of Clubs has a value of 10.\n",
      "Value of hand: 20\n",
      "\n",
      "Dealer hand: \n",
      "5 of Diamonds has a value of 5.\n",
      "Value of hand: 5\n",
      "\n",
      "Player decides to Stand\n",
      "Player hand: \n",
      "Jack of Diamonds has a value of 10.\n",
      "Jack of Clubs has a value of 10.\n",
      "Value of hand: 20\n",
      "\n",
      "Player Won!\n",
      "Player: 20\n",
      "Dealer: 19\n",
      "\n",
      "-------------------------------\n",
      "Game number 10\n",
      "Running count is 0\n",
      "Table count is 0.0\n",
      "Player bets $45\n",
      "Player hand: \n",
      "6 of Diamonds has a value of 6.\n",
      "10 of Diamonds has a value of 10.\n",
      "Value of hand: 16\n",
      "\n",
      "Dealer hand: \n",
      "Ace of Clubs has a value of 11.\n",
      "Value of hand: 11\n",
      "\n",
      "Player decides to Stand\n",
      "Player hand: \n",
      "6 of Diamonds has a value of 6.\n",
      "10 of Diamonds has a value of 10.\n",
      "Value of hand: 16\n",
      "\n",
      "Dealer won...\n",
      "Player: 16\n",
      "Dealer: 21\n",
      "\n"
     ]
    }
   ],
   "source": [
    "fullRun(\"basic\", 10, basicBet)"
   ]
  },
  {
   "cell_type": "markdown",
   "metadata": {},
   "source": [
    "## Conclusion:"
   ]
  },
  {
   "cell_type": "markdown",
   "metadata": {},
   "source": [
    "Our final results ended up being deeply satisfying. All of our players were trained within a few percent of expected, our counter programs that don’t hide their bets made more money, our camouflaged betters evaded the analysis program at the cost of losing money, and our betting analysis program successfully caught all players that we expected it to while ignoring the rest. However, there were many improvements that could have been made to this project. "
   ]
  },
  {
   "cell_type": "markdown",
   "metadata": {},
   "source": [
    "For starters, it would have been far more beneficial to add functionality for doubling-down and splitting, since those moves are important for effective betting and playing strategies. We simply just ran out of time with the rest of the functionality we wanted to implement. "
   ]
  },
  {
   "cell_type": "markdown",
   "metadata": {},
   "source": [
    "Additionally, we feel that our counter should have had a slightly better advantage in play over the random and basic players. While the results posted in this notebook indicate that this was the case for some counters, all of them were trained the same, so we would have expected less variation. We believe that better training values over more iterations, with more than 10,000 games played might have made this a bit better. However, we may have just ended up with the same results anyways. Again, we ran out of time to start messing around with the training that we felt it best to just leave it."
   ]
  },
  {
   "cell_type": "markdown",
   "metadata": {},
   "source": [
    "Another way we would have liked to improve this project would be to run our betting analysis as an A.I. rather than a script, training it on data from various games. This way it might be better at catching the counter quicker, and ignoring insignificant players. Better yet, if we trained it on camouflaged players, we believe that eventually it would be able to catch even people trying to hide from the casino. The last step we might add to this is to run both A.I.’s one-on-one, training each other as they go until the point where either counters are indistinguishable from normal players, or the analysis A.I can catch anybody who is counting regardless of how they play."
   ]
  },
  {
   "cell_type": "markdown",
   "metadata": {},
   "source": [
    "Unfortunately, all of this seems like a pipe dream. While we believe it could be useful if improved upon, we did some research into how casinos catch card-counters. It would seem that human factors and simply imposing rules on the game are effective enough to catch counters. Some of the human factors used by casinos involve watching the player’s actions: whether they’re signaling teammates, waiting to enter a game until the shoe is penetrated, even what they’re drinking, as alcohol (or lack thereof) can be an indicator that someone is counting. Furthermore, it seems easier to just impose rules on the game that make it impractical to count cards. The two biggest things a casino may do are maintaining a constant 6-deck shoe, always replenishing it with new decks, and forbidding mid-shoe play, making penetration betting impossible. "
   ]
  },
  {
   "cell_type": "markdown",
   "metadata": {},
   "source": [
    "So at the end of the day, it would seem that all of this just wouldn’t be used by a real casino. Especially since that would require the addition of computer vision to actually look at the cards on the table and maintain a running count as well as the player bets. Fortunately, this is exactly the type of program that could be employed by online and electronic gambling, where players flagged as counters get suspended from their accounts for X amount of time. Regardless of the usefulness of the software, it was still a valuable learning experience for our team, and if anything came out of it, now we all know how to count cards and beat the casino!"
   ]
  },
  {
   "cell_type": "code",
   "execution_count": 27,
   "metadata": {},
   "outputs": [
    {
     "name": "stdout",
     "output_type": "stream",
     "text": [
      "Word count for file Batres-Dennis-Nickels-Blackjack-AI.ipynb is 5068\n"
     ]
    }
   ],
   "source": [
    "import io\n",
    "import warnings\n",
    "warnings.filterwarnings('ignore')\n",
    "\n",
    "from IPython.nbformat import current\n",
    "import glob\n",
    "nbfile = glob.glob('Batres-Dennis-Nickels-Blackjack-AI.ipynb')\n",
    "if len(nbfile) > 1:\n",
    "    print('More than one ipynb file. Using the first one.  nbfile=', nbfile)\n",
    "with io.open(nbfile[0], 'r', encoding='utf-8') as f:\n",
    "    nb = current.read(f, 'json')\n",
    "word_count = 0\n",
    "for cell in nb.worksheets[0].cells:\n",
    "    if cell.cell_type == \"markdown\":\n",
    "        word_count += len(cell['source'].replace('#', '').lstrip().split(' '))\n",
    "print('Word count for file', nbfile[0], 'is', word_count)"
   ]
  }
 ],
 "metadata": {
  "anaconda-cloud": {},
  "kernelspec": {
   "display_name": "Python 3",
   "language": "python",
   "name": "python3"
  },
  "language_info": {
   "codemirror_mode": {
    "name": "ipython",
    "version": 3
   },
   "file_extension": ".py",
   "mimetype": "text/x-python",
   "name": "python",
   "nbconvert_exporter": "python",
   "pygments_lexer": "ipython3",
   "version": "3.6.3"
  },
  "toc": {
   "nav_menu": {},
   "number_sections": true,
   "sideBar": true,
   "skip_h1_title": false,
   "toc_cell": false,
   "toc_position": {},
   "toc_section_display": "block",
   "toc_window_display": false
  }
 },
 "nbformat": 4,
 "nbformat_minor": 1
}
